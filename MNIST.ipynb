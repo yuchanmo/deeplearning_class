{
 "cells": [
  {
   "cell_type": "code",
   "execution_count": 1,
   "metadata": {},
   "outputs": [
    {
     "name": "stderr",
     "output_type": "stream",
     "text": [
      "C:\\ProgramData\\Anaconda3\\lib\\site-packages\\h5py\\__init__.py:36: FutureWarning: Conversion of the second argument of issubdtype from `float` to `np.floating` is deprecated. In future, it will be treated as `np.float64 == np.dtype(float).type`.\n",
      "  from ._conv import register_converters as _register_converters\n"
     ]
    }
   ],
   "source": [
    "import tensorflow as tf"
   ]
  },
  {
   "cell_type": "code",
   "execution_count": 2,
   "metadata": {},
   "outputs": [
    {
     "name": "stdout",
     "output_type": "stream",
     "text": [
      "WARNING:tensorflow:From <ipython-input-2-8bf8ae5a5303>:2: read_data_sets (from tensorflow.contrib.learn.python.learn.datasets.mnist) is deprecated and will be removed in a future version.\n",
      "Instructions for updating:\n",
      "Please use alternatives such as official/mnist/dataset.py from tensorflow/models.\n",
      "WARNING:tensorflow:From C:\\ProgramData\\Anaconda3\\lib\\site-packages\\tensorflow\\contrib\\learn\\python\\learn\\datasets\\mnist.py:260: maybe_download (from tensorflow.contrib.learn.python.learn.datasets.base) is deprecated and will be removed in a future version.\n",
      "Instructions for updating:\n",
      "Please write your own downloading logic.\n",
      "WARNING:tensorflow:From C:\\ProgramData\\Anaconda3\\lib\\site-packages\\tensorflow\\contrib\\learn\\python\\learn\\datasets\\base.py:252: _internal_retry.<locals>.wrap.<locals>.wrapped_fn (from tensorflow.contrib.learn.python.learn.datasets.base) is deprecated and will be removed in a future version.\n",
      "Instructions for updating:\n",
      "Please use urllib or similar directly.\n",
      "Successfully downloaded train-images-idx3-ubyte.gz 9912422 bytes.\n",
      "WARNING:tensorflow:From C:\\ProgramData\\Anaconda3\\lib\\site-packages\\tensorflow\\contrib\\learn\\python\\learn\\datasets\\mnist.py:262: extract_images (from tensorflow.contrib.learn.python.learn.datasets.mnist) is deprecated and will be removed in a future version.\n",
      "Instructions for updating:\n",
      "Please use tf.data to implement this functionality.\n",
      "Extracting MNIST_data/train-images-idx3-ubyte.gz\n",
      "Successfully downloaded train-labels-idx1-ubyte.gz 28881 bytes.\n",
      "WARNING:tensorflow:From C:\\ProgramData\\Anaconda3\\lib\\site-packages\\tensorflow\\contrib\\learn\\python\\learn\\datasets\\mnist.py:267: extract_labels (from tensorflow.contrib.learn.python.learn.datasets.mnist) is deprecated and will be removed in a future version.\n",
      "Instructions for updating:\n",
      "Please use tf.data to implement this functionality.\n",
      "Extracting MNIST_data/train-labels-idx1-ubyte.gz\n",
      "WARNING:tensorflow:From C:\\ProgramData\\Anaconda3\\lib\\site-packages\\tensorflow\\contrib\\learn\\python\\learn\\datasets\\mnist.py:110: dense_to_one_hot (from tensorflow.contrib.learn.python.learn.datasets.mnist) is deprecated and will be removed in a future version.\n",
      "Instructions for updating:\n",
      "Please use tf.one_hot on tensors.\n",
      "Successfully downloaded t10k-images-idx3-ubyte.gz 1648877 bytes.\n",
      "Extracting MNIST_data/t10k-images-idx3-ubyte.gz\n",
      "Successfully downloaded t10k-labels-idx1-ubyte.gz 4542 bytes.\n",
      "Extracting MNIST_data/t10k-labels-idx1-ubyte.gz\n",
      "WARNING:tensorflow:From C:\\ProgramData\\Anaconda3\\lib\\site-packages\\tensorflow\\contrib\\learn\\python\\learn\\datasets\\mnist.py:290: DataSet.__init__ (from tensorflow.contrib.learn.python.learn.datasets.mnist) is deprecated and will be removed in a future version.\n",
      "Instructions for updating:\n",
      "Please use alternatives such as official/mnist/dataset.py from tensorflow/models.\n"
     ]
    }
   ],
   "source": [
    "from tensorflow.examples.tutorials.mnist import input_data\n",
    "mnist = input_data.read_data_sets(\"MNIST_data/\", one_hot=True)"
   ]
  },
  {
   "cell_type": "code",
   "execution_count": 7,
   "metadata": {},
   "outputs": [],
   "source": [
    "X = tf.placeholder(tf.float32, [None, 28, 28,1])\n",
    "Y = tf.placeholder(tf.float32, [None, 10])"
   ]
  },
  {
   "cell_type": "code",
   "execution_count": 12,
   "metadata": {},
   "outputs": [],
   "source": [
    "#16 First Layer\n",
    "W1 = tf.Variable(tf.random_normal([3,3,1,32], stddev=0.01))\n",
    "#padding = 'SAME' keeps output size equal to input\n",
    "L1 = tf.nn.conv2d(X, W1, strides=[1,1,1,1], padding='SAME')"
   ]
  },
  {
   "cell_type": "code",
   "execution_count": 13,
   "metadata": {},
   "outputs": [
    {
     "name": "stdout",
     "output_type": "stream",
     "text": [
      "Tensor(\"Conv2D_3:0\", shape=(?, 28, 28, 32), dtype=float32)\n"
     ]
    }
   ],
   "source": [
    "print(L1)"
   ]
  },
  {
   "cell_type": "code",
   "execution_count": 9,
   "metadata": {},
   "outputs": [
    {
     "name": "stdout",
     "output_type": "stream",
     "text": [
      "Tensor(\"MaxPool_2:0\", shape=(?, 14, 14, 32), dtype=float32)\n"
     ]
    }
   ],
   "source": [
    "#19\n",
    "L1 = tf.nn.relu(L1)\n",
    "#Pooling layer\n",
    "L1 = tf.nn.max_pool(L1, ksize=[1,2,2,1], strides=[1,2,2,1],padding='SAME') \n",
    "# 여기서는 padding 의미 없음/ 홀수 인 경우만 의미 있음\n",
    "print(L1)"
   ]
  },
  {
   "cell_type": "code",
   "execution_count": 10,
   "metadata": {},
   "outputs": [
    {
     "name": "stdout",
     "output_type": "stream",
     "text": [
      "Tensor(\"MaxPool_3:0\", shape=(?, 7, 7, 64), dtype=float32)\n"
     ]
    }
   ],
   "source": [
    "#20 Second Layer\n",
    "W2 = tf.Variable(tf.random_normal([3,3,32,64], stddev=0.01))\n",
    "L2 = tf.nn.conv2d(L1, W2, strides=[1,1,1,1], padding='SAME')\n",
    "L2 = tf.nn.relu(L2)\n",
    "L2 = tf.nn.max_pool(L2, ksize=[1,2,2,1], strides=[1,2,2,1],padding='SAME') \n",
    "print(L2)"
   ]
  },
  {
   "cell_type": "code",
   "execution_count": 11,
   "metadata": {},
   "outputs": [
    {
     "name": "stdout",
     "output_type": "stream",
     "text": [
      "Tensor(\"Relu_4:0\", shape=(?, 256), dtype=float32)\n"
     ]
    }
   ],
   "source": [
    "#21 3rd Layer\n",
    "W3 = tf.Variable(tf.random_normal([7*7*64,256], stddev=0.01))\n",
    "L3 = tf.reshape(L2, [-1,7*7*64]) # -1 : batch size( batch를 몰라서(=None개념))\n",
    "L3 = tf.matmul(L3, W3)\n",
    "L3 = tf.nn.relu(L3)\n",
    "print(L3)"
   ]
  },
  {
   "cell_type": "code",
   "execution_count": 14,
   "metadata": {},
   "outputs": [
    {
     "name": "stdout",
     "output_type": "stream",
     "text": [
      "Tensor(\"MatMul_1:0\", shape=(?, 10), dtype=float32)\n"
     ]
    }
   ],
   "source": [
    "#22 4th layer\n",
    "W4 = tf.Variable(tf.random_normal([256,10], stddev=0.01))\n",
    "model = tf.matmul(L3, W4)\n",
    "print(model)"
   ]
  },
  {
   "cell_type": "code",
   "execution_count": 21,
   "metadata": {},
   "outputs": [
    {
     "name": "stdout",
     "output_type": "stream",
     "text": [
      "name: \"Adam_5\"\n",
      "op: \"NoOp\"\n",
      "input: \"^Adam_5/update_Variable_1/ApplyAdam\"\n",
      "input: \"^Adam_5/update_Variable_2/ApplyAdam\"\n",
      "input: \"^Adam_5/update_Variable_3/ApplyAdam\"\n",
      "input: \"^Adam_5/update_Variable_5/ApplyAdam\"\n",
      "input: \"^Adam_5/Assign\"\n",
      "input: \"^Adam_5/Assign_1\"\n",
      "\n",
      "name: \"Adam_6\"\n",
      "op: \"NoOp\"\n",
      "input: \"^Adam_6/update_Variable_1/ApplyAdam\"\n",
      "input: \"^Adam_6/update_Variable_2/ApplyAdam\"\n",
      "input: \"^Adam_6/update_Variable_3/ApplyAdam\"\n",
      "input: \"^Adam_6/update_Variable_5/ApplyAdam\"\n",
      "input: \"^Adam_6/Assign\"\n",
      "input: \"^Adam_6/Assign_1\"\n",
      "\n"
     ]
    }
   ],
   "source": [
    "#23\n",
    "cost2 = tf.reduce_mean(tf.nn.softmax_cross_entropy_with_logits_v2(logits=model, labels=Y))\n",
    "cost1 = tf.reduce_mean(tf.nn.softmax_cross_entropy_with_logits(logits=model, labels=Y))\n",
    "optimizer1 = tf.train.AdamOptimizer(0.001).minimize(cost1)\n",
    "optimizer2 = tf.train.AdamOptimizer(0.001).minimize(cost2)\n",
    "# 최근에는 주로 AdamOptimizer 사용\n",
    "print(optimizer1)\n",
    "print(optimizer2)"
   ]
  },
  {
   "cell_type": "code",
   "execution_count": 23,
   "metadata": {},
   "outputs": [],
   "source": [
    "#24\n",
    "init = tf.global_variables_initializer()\n",
    "sess = tf.Session()\n",
    "sess.run(init)"
   ]
  },
  {
   "cell_type": "code",
   "execution_count": 24,
   "metadata": {},
   "outputs": [],
   "source": [
    "#25\n",
    "batch_size = 100\n",
    "total_batch = int(mnist.train.num_examples / batch_size)"
   ]
  },
  {
   "cell_type": "code",
   "execution_count": 28,
   "metadata": {},
   "outputs": [
    {
     "name": "stdout",
     "output_type": "stream",
     "text": [
      "Epoch: 0001 Avg. cost =  0.250\n",
      "Epoch: 0001 Avg. cost =  0.231\n",
      "Epoch: 0002 Avg. cost =  0.070\n",
      "Epoch: 0002 Avg. cost =  0.061\n",
      "Epoch: 0003 Avg. cost =  0.047\n",
      "Epoch: 0003 Avg. cost =  0.040\n",
      "Epoch: 0004 Avg. cost =  0.036\n",
      "Epoch: 0004 Avg. cost =  0.029\n",
      "Epoch: 0005 Avg. cost =  0.029\n",
      "Epoch: 0005 Avg. cost =  0.022\n",
      "Epoch: 0006 Avg. cost =  0.023\n",
      "Epoch: 0006 Avg. cost =  0.017\n",
      "Epoch: 0007 Avg. cost =  0.020\n",
      "Epoch: 0007 Avg. cost =  0.014\n",
      "Epoch: 0008 Avg. cost =  0.015\n",
      "Epoch: 0008 Avg. cost =  0.010\n",
      "Epoch: 0009 Avg. cost =  0.013\n",
      "Epoch: 0009 Avg. cost =  0.008\n",
      "Epoch: 0010 Avg. cost =  0.011\n",
      "Epoch: 0010 Avg. cost =  0.006\n"
     ]
    }
   ],
   "source": [
    "for epoch in range(10):\n",
    "    total_cost1 = 0\n",
    "    total_cost2 = 0\n",
    "    \n",
    "    for i in range(total_batch) : \n",
    "        batch_xs, batch_ys = mnist.train.next_batch(batch_size)\n",
    "        batch_xs = batch_xs.reshape(-1,28,28,1)\n",
    "        \n",
    "        _1,cost_val1 = sess.run( [optimizer1, cost1],\n",
    "                              feed_dict={X : batch_xs, Y : batch_ys})\n",
    "        _2,cost_val2 = sess.run( [optimizer2, cost2],\n",
    "                              feed_dict={X : batch_xs, Y : batch_ys})\n",
    "        \n",
    "        total_cost1 += cost_val1\n",
    "        total_cost2 += cost_val2\n",
    "    \n",
    "    print('Epoch:', '%04d' %(epoch +1),\n",
    "         'Avg. cost = ','{:,.3f}'.format(total_cost1/total_batch))\n",
    "    print('Epoch:', '%04d' %(epoch +1),\n",
    "         'Avg. cost = ','{:,.3f}'.format(total_cost2/total_batch))\n",
    "    \n",
    "        \n",
    "        "
   ]
  },
  {
   "cell_type": "code",
   "execution_count": null,
   "metadata": {},
   "outputs": [],
   "source": [
    "corectness = tf.equal(tf.argmax(model,1), tf.argmax(Y,1))\n",
    "accuracy = tf.reduce_mean(tf.cast(corectness, tf.float32))\n",
    "print('Accuracy', sess.run(accuracy,\n",
    "                          feed_dict={\n",
    "                              X : mnist.test.image.reshape(-1,28,28,1),\n",
    "                              Y : mnist.test.labels}))"
   ]
  },
  {
   "cell_type": "markdown",
   "metadata": {},
   "source": [
    "(RawData / image) 28X28X1\n",
    "\n",
    "(1stLayer)>>>>>> 14X14x32\n",
    "\n",
    "(2ndLayer)>>>>>> 7X7x64\n",
    "\n",
    "(3rdLayer)>>>>>> batchX (7x7x64) >>> batchX256 \n",
    "\n",
    "(4thLayer)>>>>>> 256 X 10 >>> batch *10\n"
   ]
  },
  {
   "cell_type": "code",
   "execution_count": null,
   "metadata": {},
   "outputs": [],
   "source": []
  },
  {
   "cell_type": "code",
   "execution_count": null,
   "metadata": {},
   "outputs": [],
   "source": []
  },
  {
   "cell_type": "code",
   "execution_count": null,
   "metadata": {},
   "outputs": [],
   "source": []
  },
  {
   "cell_type": "code",
   "execution_count": null,
   "metadata": {},
   "outputs": [],
   "source": []
  },
  {
   "cell_type": "code",
   "execution_count": null,
   "metadata": {},
   "outputs": [],
   "source": []
  },
  {
   "cell_type": "code",
   "execution_count": null,
   "metadata": {},
   "outputs": [],
   "source": []
  },
  {
   "cell_type": "code",
   "execution_count": null,
   "metadata": {},
   "outputs": [],
   "source": []
  }
 ],
 "metadata": {
  "kernelspec": {
   "display_name": "Python 3",
   "language": "python",
   "name": "python3"
  },
  "language_info": {
   "codemirror_mode": {
    "name": "ipython",
    "version": 3
   },
   "file_extension": ".py",
   "mimetype": "text/x-python",
   "name": "python",
   "nbconvert_exporter": "python",
   "pygments_lexer": "ipython3",
   "version": "3.6.5"
  }
 },
 "nbformat": 4,
 "nbformat_minor": 2
}
