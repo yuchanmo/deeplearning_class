{
  "nbformat": 4,
  "nbformat_minor": 0,
  "metadata": {
    "colab": {
      "name": "AutoEncoder.ipynb",
      "version": "0.3.2",
      "provenance": [],
      "collapsed_sections": []
    },
    "kernelspec": {
      "name": "python3",
      "display_name": "Python 3"
    }
  },
  "cells": [
    {
      "cell_type": "code",
      "metadata": {
        "id": "rm82J04_dBhX",
        "colab_type": "code",
        "colab": {}
      },
      "source": [
        "import tensorflow as tf\n",
        "import numpy as np\n",
        "import matplotlib.pyplot as plt"
      ],
      "execution_count": 0,
      "outputs": []
    },
    {
      "cell_type": "code",
      "metadata": {
        "id": "R2U3Q2RId-ha",
        "colab_type": "code",
        "colab": {}
      },
      "source": [
        "from tensorflow.examples.tutorials.mnist import input_data"
      ],
      "execution_count": 0,
      "outputs": []
    },
    {
      "cell_type": "code",
      "metadata": {
        "id": "cpm_OvRjeEiA",
        "colab_type": "code",
        "outputId": "9d1c8f09-da9a-4544-bf0c-bb11b1063933",
        "colab": {
          "base_uri": "https://localhost:8080/",
          "height": 445
        }
      },
      "source": [
        "mnist = input_data.read_data_sets('./mnist/data',one_hot=True)"
      ],
      "execution_count": 0,
      "outputs": [
        {
          "output_type": "stream",
          "text": [
            "WARNING:tensorflow:From <ipython-input-3-7ba1797376ca>:1: read_data_sets (from tensorflow.contrib.learn.python.learn.datasets.mnist) is deprecated and will be removed in a future version.\n",
            "Instructions for updating:\n",
            "Please use alternatives such as official/mnist/dataset.py from tensorflow/models.\n",
            "WARNING:tensorflow:From /usr/local/lib/python3.6/dist-packages/tensorflow/contrib/learn/python/learn/datasets/mnist.py:260: maybe_download (from tensorflow.contrib.learn.python.learn.datasets.base) is deprecated and will be removed in a future version.\n",
            "Instructions for updating:\n",
            "Please write your own downloading logic.\n",
            "WARNING:tensorflow:From /usr/local/lib/python3.6/dist-packages/tensorflow/contrib/learn/python/learn/datasets/mnist.py:262: extract_images (from tensorflow.contrib.learn.python.learn.datasets.mnist) is deprecated and will be removed in a future version.\n",
            "Instructions for updating:\n",
            "Please use tf.data to implement this functionality.\n",
            "Extracting ./mnist/data/train-images-idx3-ubyte.gz\n",
            "WARNING:tensorflow:From /usr/local/lib/python3.6/dist-packages/tensorflow/contrib/learn/python/learn/datasets/mnist.py:267: extract_labels (from tensorflow.contrib.learn.python.learn.datasets.mnist) is deprecated and will be removed in a future version.\n",
            "Instructions for updating:\n",
            "Please use tf.data to implement this functionality.\n",
            "Extracting ./mnist/data/train-labels-idx1-ubyte.gz\n",
            "WARNING:tensorflow:From /usr/local/lib/python3.6/dist-packages/tensorflow/contrib/learn/python/learn/datasets/mnist.py:110: dense_to_one_hot (from tensorflow.contrib.learn.python.learn.datasets.mnist) is deprecated and will be removed in a future version.\n",
            "Instructions for updating:\n",
            "Please use tf.one_hot on tensors.\n",
            "Extracting ./mnist/data/t10k-images-idx3-ubyte.gz\n",
            "Extracting ./mnist/data/t10k-labels-idx1-ubyte.gz\n",
            "WARNING:tensorflow:From /usr/local/lib/python3.6/dist-packages/tensorflow/contrib/learn/python/learn/datasets/mnist.py:290: DataSet.__init__ (from tensorflow.contrib.learn.python.learn.datasets.mnist) is deprecated and will be removed in a future version.\n",
            "Instructions for updating:\n",
            "Please use alternatives such as official/mnist/dataset.py from tensorflow/models.\n"
          ],
          "name": "stdout"
        }
      ]
    },
    {
      "cell_type": "code",
      "metadata": {
        "id": "XU8Uyim6eMS0",
        "colab_type": "code",
        "colab": {}
      },
      "source": [
        "learning_rate = 0.01\n",
        "training_epoch = 20\n",
        "batch_size = 100\n",
        "n_hidden = 256\n",
        "n_input = 28*28"
      ],
      "execution_count": 0,
      "outputs": []
    },
    {
      "cell_type": "code",
      "metadata": {
        "id": "-v13oiA8eVs1",
        "colab_type": "code",
        "colab": {}
      },
      "source": [
        "X = tf.placeholder(tf.float32,[None,n_input])"
      ],
      "execution_count": 0,
      "outputs": []
    },
    {
      "cell_type": "code",
      "metadata": {
        "id": "oSdMc6nYeZhG",
        "colab_type": "code",
        "outputId": "3307906e-c654-45bb-ccf1-cc69b54a8465",
        "colab": {
          "base_uri": "https://localhost:8080/",
          "height": 93
        }
      },
      "source": [
        "w_encode = tf.Variable(tf.random_normal([n_input,n_hidden]))\n",
        "b_encode = tf.Variable(tf.random_normal([n_hidden]))"
      ],
      "execution_count": 0,
      "outputs": [
        {
          "output_type": "stream",
          "text": [
            "WARNING:tensorflow:From /usr/local/lib/python3.6/dist-packages/tensorflow/python/framework/op_def_library.py:263: colocate_with (from tensorflow.python.framework.ops) is deprecated and will be removed in a future version.\n",
            "Instructions for updating:\n",
            "Colocations handled automatically by placer.\n"
          ],
          "name": "stdout"
        }
      ]
    },
    {
      "cell_type": "code",
      "metadata": {
        "id": "cr6ZXCGXej5B",
        "colab_type": "code",
        "colab": {}
      },
      "source": [
        "encoder = tf.nn.sigmoid(tf.add(tf.matmul(X,w_encode),b_encode))"
      ],
      "execution_count": 0,
      "outputs": []
    },
    {
      "cell_type": "code",
      "metadata": {
        "id": "ZVi4sqoRertp",
        "colab_type": "code",
        "colab": {}
      },
      "source": [
        "w_decode = tf.Variable(tf.random_normal([n_hidden,n_input]))\n",
        "b_decode = tf.Variable(tf.random_normal([n_input]))\n",
        "decoder = tf.nn.sigmoid(tf.add(tf.matmul(encoder,w_decode),b_decode))"
      ],
      "execution_count": 0,
      "outputs": []
    },
    {
      "cell_type": "code",
      "metadata": {
        "id": "Surdfjwte8xs",
        "colab_type": "code",
        "colab": {}
      },
      "source": [
        "cost = tf.reduce_mean(tf.pow(X -decoder,2))\n",
        "optimizer = tf.train.AdamOptimizer(learning_rate).minimize(cost)"
      ],
      "execution_count": 0,
      "outputs": []
    },
    {
      "cell_type": "code",
      "metadata": {
        "id": "SPQMvqMZfHUg",
        "colab_type": "code",
        "colab": {}
      },
      "source": [
        "init = tf.global_variables_initializer()\n",
        "sess = tf.Session()\n",
        "sess.run(init)"
      ],
      "execution_count": 0,
      "outputs": []
    },
    {
      "cell_type": "code",
      "metadata": {
        "id": "X5mFMB_hgH_j",
        "colab_type": "code",
        "outputId": "5b21102c-2c9f-4cde-cb62-cd863f00c67e",
        "colab": {
          "base_uri": "https://localhost:8080/",
          "height": 388
        }
      },
      "source": [
        "total_batch = int(mnist.train.num_examples / batch_size)\n",
        "for epoch in range(training_epoch):\n",
        "  total_cost = 0\n",
        "  for i in range(total_batch):\n",
        "    batch_xs,batch_ys = mnist.train.next_batch(batch_size)\n",
        "    _, cost_val = sess.run([optimizer,cost],feed_dict={X:batch_xs})\n",
        "    \n",
        "    total_cost += cost_val\n",
        "  print('Epoch : %d'%(epoch+1), 'Avg cost %.4f'%(total_cost/total_batch))"
      ],
      "execution_count": 0,
      "outputs": [
        {
          "output_type": "stream",
          "text": [
            "Epoch : 1 Avg cost 0.0682\n",
            "Epoch : 2 Avg cost 0.0436\n",
            "Epoch : 3 Avg cost 0.0387\n",
            "Epoch : 4 Avg cost 0.0356\n",
            "Epoch : 5 Avg cost 0.0340\n",
            "Epoch : 6 Avg cost 0.0328\n",
            "Epoch : 7 Avg cost 0.0322\n",
            "Epoch : 8 Avg cost 0.0318\n",
            "Epoch : 9 Avg cost 0.0314\n",
            "Epoch : 10 Avg cost 0.0309\n",
            "Epoch : 11 Avg cost 0.0304\n",
            "Epoch : 12 Avg cost 0.0302\n",
            "Epoch : 13 Avg cost 0.0301\n",
            "Epoch : 14 Avg cost 0.0300\n",
            "Epoch : 15 Avg cost 0.0299\n",
            "Epoch : 16 Avg cost 0.0298\n",
            "Epoch : 17 Avg cost 0.0297\n",
            "Epoch : 18 Avg cost 0.0297\n",
            "Epoch : 19 Avg cost 0.0296\n",
            "Epoch : 20 Avg cost 0.0292\n"
          ],
          "name": "stdout"
        }
      ]
    },
    {
      "cell_type": "code",
      "metadata": {
        "id": "Jxpg8iBNgrtt",
        "colab_type": "code",
        "colab": {}
      },
      "source": [
        "n = 4\n",
        "canvas_orig = np.empty((28*n,28*n))\n",
        "canvas_recon = np.empty((28*n,28*n))\n",
        "for i in range(n):\n",
        "  batch_x,_ = mnist.test.next_batch(n)\n",
        "  g = sess.run(decoder,feed_dict={X:batch_x})\n",
        "  \n",
        "  for j in range(n):\n",
        "    canvas_orig[i*28:(i+1)*28,j*28:(j+1)*28] = batch_x[j].reshape([28,28])\n",
        "    \n",
        "  for j in range(n):\n",
        "    canvas_recon[i*28:(i+1)*28,j*28:(j+1)*28] = g[j].reshape([28,28])"
      ],
      "execution_count": 0,
      "outputs": []
    },
    {
      "cell_type": "code",
      "metadata": {
        "id": "irVY0z2-iMQE",
        "colab_type": "code",
        "outputId": "a0bf2afe-a490-47ab-ca33-31c037266f00",
        "colab": {
          "base_uri": "https://localhost:8080/",
          "height": 288
        }
      },
      "source": [
        "print('Original Images')\n",
        "plt.figure(figsize=(n,n))\n",
        "plt.imshow(canvas_orig,origin='upper',cmap='gray')\n",
        "plt.show()"
      ],
      "execution_count": 0,
      "outputs": [
        {
          "output_type": "stream",
          "text": [
            "Original Images\n"
          ],
          "name": "stdout"
        },
        {
          "output_type": "display_data",
          "data": {
            "image/png": "[encoded data removed]",
            "text/plain": [
              "<Figure size 288x288 with 1 Axes>"
            ]
          },
          "metadata": {
            "tags": []
          }
        }
      ]
    },
    {
      "cell_type": "code",
      "metadata": {
        "id": "MDW8tQ5cieHD",
        "colab_type": "code",
        "outputId": "3b9b05af-b3d9-4882-c192-e762703e0971",
        "colab": {
          "base_uri": "https://localhost:8080/",
          "height": 288
        }
      },
      "source": [
        "print('Reconstructed Images')\n",
        "plt.figure(figsize=(n,n))\n",
        "plt.imshow(canvas_recon,origin='upper',cmap='gray')\n",
        "plt.show()"
      ],
      "execution_count": 0,
      "outputs": [
        {
          "output_type": "stream",
          "text": [
            "Reconstructed Images\n"
          ],
          "name": "stdout"
        },
        {
          "output_type": "display_data",
          "data": {
            "image/png": "[encoded data removed]",
            "text/plain": [
              "<Figure size 288x288 with 1 Axes>"
            ]
          },
          "metadata": {
            "tags": []
          }
        }
      ]
    },
    {
      "cell_type": "code",
      "metadata": {
        "id": "4BFoLJpcippR",
        "colab_type": "code",
        "colab": {}
      },
      "source": [
        "X =tf.placeholder(tf.float32,[None,28,28,1])\n",
        "W1 = tf.Variable(tf.random_normal([5,5,1,32],stddev=0.01))\n",
        "L1 = tf.nn.conv2d(X,W1,strides=[1,2,2,1],padding='SAME')\n",
        "L1 = tf.nn.relu(L1)\n",
        "W_encode = tf.Variable(tf.random_normal([14*14*32,256],stddev=0.01))\n",
        "L2 = tf.reshape(L1,[-1,14*14*32])\n",
        "h = tf.matmul(L2,W_encode)"
      ],
      "execution_count": 0,
      "outputs": []
    },
    {
      "cell_type": "code",
      "metadata": {
        "id": "BLzSOhYRk0Yt",
        "colab_type": "code",
        "colab": {}
      },
      "source": [
        "output_batch = tf.shape(X)[0]\n",
        "deconv_shape = tf.stack([output_batch,28,28,1])\n",
        "W_decode = tf.Variable(tf.random_normal([256,14*14*32]))\n",
        "L3 = tf.matmul(h,W_decode)\n",
        "W3 = tf.Variable(tf.random_normal([5,5,1,32]))\n",
        "L3 = tf.reshape(L3,[-1,14,14,32])\n",
        "\n",
        "decoder = tf.nn.conv2d_transpose(L3,W3,output_shape=deconv_shape,strides=[1,2,2,1],padding='SAME')"
      ],
      "execution_count": 0,
      "outputs": []
    },
    {
      "cell_type": "code",
      "metadata": {
        "id": "7_iiZFK_l1Dy",
        "colab_type": "code",
        "colab": {}
      },
      "source": [
        "\n",
        "decoder = tf.nn.sigmoid(decoder)\n",
        "cost = tf.reduce_mean(tf.pow(X -decoder,2))\n",
        "optimizer = tf.train.AdamOptimizer(learning_rate).minimize(cost)\n",
        "init = tf.global_variables_initializer()\n",
        "sess = tf.Session()\n",
        "sess.run(init)"
      ],
      "execution_count": 0,
      "outputs": []
    },
    {
      "cell_type": "code",
      "metadata": {
        "id": "Km21cSuxl3tA",
        "colab_type": "code",
        "outputId": "2d3bea40-b6cd-4c72-d33b-b989fea94271",
        "colab": {
          "base_uri": "https://localhost:8080/",
          "height": 388
        }
      },
      "source": [
        "total_batch = int(mnist.train.num_examples/batch_size)\n",
        "for epoch in range(training_epoch):\n",
        "  total_cost = 0\n",
        "  for i in range(total_batch):\n",
        "    batch_xs,batch_ys = mnist.train.next_batch(batch_size)\n",
        "    _,cost_val,o_batch_num = sess.run([optimizer,cost,output_batch],feed_dict={X:batch_xs.reshape(-1,28,28,1)})\n",
        "    total_cost +=cost_val\n",
        "#     print('output_batchnum : %d'%(o_batch_num))\n",
        "  print('Epoch : %d'%(epoch+1), 'Avg cost %.4f'%(total_cost/total_batch))"
      ],
      "execution_count": 0,
      "outputs": [
        {
          "output_type": "stream",
          "text": [
            "Epoch : 1 Avg cost 0.0251\n",
            "Epoch : 2 Avg cost 0.0093\n",
            "Epoch : 3 Avg cost 0.0059\n",
            "Epoch : 4 Avg cost 0.0046\n",
            "Epoch : 5 Avg cost 0.0041\n",
            "Epoch : 6 Avg cost 0.0040\n",
            "Epoch : 7 Avg cost 0.0037\n",
            "Epoch : 8 Avg cost 0.0036\n",
            "Epoch : 9 Avg cost 0.0034\n",
            "Epoch : 10 Avg cost 0.0031\n",
            "Epoch : 11 Avg cost 0.0028\n",
            "Epoch : 12 Avg cost 0.0026\n",
            "Epoch : 13 Avg cost 0.0024\n",
            "Epoch : 14 Avg cost 0.0022\n",
            "Epoch : 15 Avg cost 0.0021\n",
            "Epoch : 16 Avg cost 0.0020\n",
            "Epoch : 17 Avg cost 0.0019\n",
            "Epoch : 18 Avg cost 0.0019\n",
            "Epoch : 19 Avg cost 0.0018\n",
            "Epoch : 20 Avg cost 0.0018\n"
          ],
          "name": "stdout"
        }
      ]
    },
    {
      "cell_type": "markdown",
      "metadata": {
        "id": "YNWtnO8ypI1f",
        "colab_type": "text"
      },
      "source": [
        ""
      ]
    },
    {
      "cell_type": "code",
      "metadata": {
        "id": "YQ_zY5zCnCtN",
        "colab_type": "code",
        "outputId": "0daf10b6-9927-42c6-9b5d-ac9c50622173",
        "colab": {
          "base_uri": "https://localhost:8080/",
          "height": 559
        }
      },
      "source": [
        "n = 4\n",
        "canvas_orig = np.empty((28*n,28*n))\n",
        "canvas_recon = np.empty((28*n,28*n))\n",
        "for i in range(n):\n",
        "  batch_x,_ = mnist.test.next_batch(n)\n",
        "  g = sess.run(decoder,feed_dict={X:batch_x.reshape(-1,28,28,1)})\n",
        "  \n",
        "  for j in range(n):\n",
        "    canvas_orig[i*28:(i+1)*28,j*28:(j+1)*28] = batch_x[j].reshape([28,28])\n",
        "    \n",
        "  for j in range(n):\n",
        "    canvas_recon[i*28:(i+1)*28,j*28:(j+1)*28] = g[j].reshape([28,28])\n",
        "    \n",
        "print('Original Images')\n",
        "plt.figure(figsize=(n,n))\n",
        "plt.imshow(canvas_orig,origin='upper',cmap='gray')\n",
        "plt.show()\n",
        "\n",
        "print('Reconstructed Images')\n",
        "plt.figure(figsize=(n,n))\n",
        "plt.imshow(canvas_recon,origin='upper',cmap='gray')\n",
        "plt.show()"
      ],
      "execution_count": 0,
      "outputs": [
        {
          "output_type": "stream",
          "text": [
            "Original Images\n"
          ],
          "name": "stdout"
        },
        {
          "output_type": "display_data",
          "data": {
            "image/png": "[encoded data removed]",
            "text/plain": [
              "<Figure size 288x288 with 1 Axes>"
            ]
          },
          "metadata": {
            "tags": []
          }
        },
        {
          "output_type": "stream",
          "text": [
            "Reconstructed Images\n"
          ],
          "name": "stdout"
        },
        {
          "output_type": "display_data",
          "data": {
            "image/png": "[encoded data removed]",
            "text/plain": [
              "<Figure size 288x288 with 1 Axes>"
            ]
          },
          "metadata": {
            "tags": []
          }
        }
      ]
    },
    {
      "cell_type": "code",
      "metadata": {
        "id": "GkEM0DSBq6BW",
        "colab_type": "code",
        "colab": {}
      },
      "source": [
        ""
      ],
      "execution_count": 0,
      "outputs": []
    }
  ]
}